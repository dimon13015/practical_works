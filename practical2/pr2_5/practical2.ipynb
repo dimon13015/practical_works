{
 "cells": [
  {
   "cell_type": "code",
   "execution_count": 34,
   "id": "bf285d7d",
   "metadata": {},
   "outputs": [],
   "source": [
    "from datascience import *\n",
    "import numpy as np\n",
    "\n",
    "%matplotlib inline\n",
    "import matplotlib.pyplot as plots\n",
    "plots.style.use('fivethirtyeight')"
   ]
  },
  {
   "cell_type": "code",
   "execution_count": 35,
   "id": "68c73e55",
   "metadata": {},
   "outputs": [],
   "source": [
    "#SD\n",
    "well_dept = make_array(56, 12, 66, 19, 32, 72,27, 32)"
   ]
  },
  {
   "cell_type": "code",
   "execution_count": 36,
   "id": "01915dde",
   "metadata": {},
   "outputs": [
    {
     "data": {
      "text/html": [
       "<table border=\"1\" class=\"dataframe\">\n",
       "    <thead>\n",
       "        <tr>\n",
       "            <th>Well_dept</th>\n",
       "        </tr>\n",
       "    </thead>\n",
       "    <tbody>\n",
       "        <tr>\n",
       "            <td>56       </td>\n",
       "        </tr>\n",
       "        <tr>\n",
       "            <td>12       </td>\n",
       "        </tr>\n",
       "        <tr>\n",
       "            <td>66       </td>\n",
       "        </tr>\n",
       "        <tr>\n",
       "            <td>19       </td>\n",
       "        </tr>\n",
       "        <tr>\n",
       "            <td>32       </td>\n",
       "        </tr>\n",
       "        <tr>\n",
       "            <td>72       </td>\n",
       "        </tr>\n",
       "        <tr>\n",
       "            <td>27       </td>\n",
       "        </tr>\n",
       "        <tr>\n",
       "            <td>32       </td>\n",
       "        </tr>\n",
       "    </tbody>\n",
       "</table>"
      ],
      "text/plain": [
       "Well_dept\n",
       "56\n",
       "12\n",
       "66\n",
       "19\n",
       "32\n",
       "72\n",
       "27\n",
       "32"
      ]
     },
     "execution_count": 36,
     "metadata": {},
     "output_type": "execute_result"
    }
   ],
   "source": [
    "sd_table = Table().with_columns('Well_dept', well_dept)\n",
    "sd_table"
   ]
  },
  {
   "cell_type": "code",
   "execution_count": 23,
   "id": "363117cd",
   "metadata": {},
   "outputs": [
    {
     "data": {
      "text/plain": [
       "39.5"
      ]
     },
     "execution_count": 23,
     "metadata": {},
     "output_type": "execute_result"
    }
   ],
   "source": [
    "average = np.average(well_dept)\n",
    "average"
   ]
  },
  {
   "cell_type": "code",
   "execution_count": 24,
   "id": "c8c8a91a",
   "metadata": {},
   "outputs": [
    {
     "data": {
      "text/html": [
       "<table border=\"1\" class=\"dataframe\">\n",
       "    <thead>\n",
       "        <tr>\n",
       "            <th>Well_dept</th> <th>Deviation</th>\n",
       "        </tr>\n",
       "    </thead>\n",
       "    <tbody>\n",
       "        <tr>\n",
       "            <td>56       </td> <td>16.5     </td>\n",
       "        </tr>\n",
       "        <tr>\n",
       "            <td>12       </td> <td>-27.5    </td>\n",
       "        </tr>\n",
       "        <tr>\n",
       "            <td>66       </td> <td>26.5     </td>\n",
       "        </tr>\n",
       "        <tr>\n",
       "            <td>19       </td> <td>-20.5    </td>\n",
       "        </tr>\n",
       "        <tr>\n",
       "            <td>32       </td> <td>-7.5     </td>\n",
       "        </tr>\n",
       "        <tr>\n",
       "            <td>72       </td> <td>32.5     </td>\n",
       "        </tr>\n",
       "        <tr>\n",
       "            <td>27       </td> <td>-12.5    </td>\n",
       "        </tr>\n",
       "        <tr>\n",
       "            <td>32       </td> <td>-7.5     </td>\n",
       "        </tr>\n",
       "    </tbody>\n",
       "</table>"
      ],
      "text/plain": [
       "Well_dept | Deviation\n",
       "56        | 16.5\n",
       "12        | -27.5\n",
       "66        | 26.5\n",
       "19        | -20.5\n",
       "32        | -7.5\n",
       "72        | 32.5\n",
       "27        | -12.5\n",
       "32        | -7.5"
      ]
     },
     "execution_count": 24,
     "metadata": {},
     "output_type": "execute_result"
    }
   ],
   "source": [
    "deviation = well_dept - average\n",
    "sd_table = sd_table.with_column('Deviation', deviation)\n",
    "sd_table"
   ]
  },
  {
   "cell_type": "code",
   "execution_count": 25,
   "id": "c3c641e8",
   "metadata": {},
   "outputs": [
    {
     "data": {
      "text/plain": [
       "0.0"
      ]
     },
     "execution_count": 25,
     "metadata": {},
     "output_type": "execute_result"
    }
   ],
   "source": [
    "sum(deviation)"
   ]
  },
  {
   "cell_type": "code",
   "execution_count": 26,
   "id": "4b109f39",
   "metadata": {},
   "outputs": [
    {
     "data": {
      "text/html": [
       "<table border=\"1\" class=\"dataframe\">\n",
       "    <thead>\n",
       "        <tr>\n",
       "            <th>Well_dept</th> <th>Deviation</th> <th>Squared deviation</th>\n",
       "        </tr>\n",
       "    </thead>\n",
       "    <tbody>\n",
       "        <tr>\n",
       "            <td>56       </td> <td>16.5     </td> <td>272.25           </td>\n",
       "        </tr>\n",
       "        <tr>\n",
       "            <td>12       </td> <td>-27.5    </td> <td>756.25           </td>\n",
       "        </tr>\n",
       "        <tr>\n",
       "            <td>66       </td> <td>26.5     </td> <td>702.25           </td>\n",
       "        </tr>\n",
       "        <tr>\n",
       "            <td>19       </td> <td>-20.5    </td> <td>420.25           </td>\n",
       "        </tr>\n",
       "        <tr>\n",
       "            <td>32       </td> <td>-7.5     </td> <td>56.25            </td>\n",
       "        </tr>\n",
       "        <tr>\n",
       "            <td>72       </td> <td>32.5     </td> <td>1056.25          </td>\n",
       "        </tr>\n",
       "        <tr>\n",
       "            <td>27       </td> <td>-12.5    </td> <td>156.25           </td>\n",
       "        </tr>\n",
       "        <tr>\n",
       "            <td>32       </td> <td>-7.5     </td> <td>56.25            </td>\n",
       "        </tr>\n",
       "    </tbody>\n",
       "</table>"
      ],
      "text/plain": [
       "Well_dept | Deviation | Squared deviation\n",
       "56        | 16.5      | 272.25\n",
       "12        | -27.5     | 756.25\n",
       "66        | 26.5      | 702.25\n",
       "19        | -20.5     | 420.25\n",
       "32        | -7.5      | 56.25\n",
       "72        | 32.5      | 1056.25\n",
       "27        | -12.5     | 156.25\n",
       "32        | -7.5      | 56.25"
      ]
     },
     "execution_count": 26,
     "metadata": {},
     "output_type": "execute_result"
    }
   ],
   "source": [
    "sd_table = sd_table.with_column('Squared deviation', deviation**2)\n",
    "sd_table"
   ]
  },
  {
   "cell_type": "code",
   "execution_count": 31,
   "id": "eb120bfd",
   "metadata": {},
   "outputs": [
    {
     "data": {
      "text/plain": [
       "434.5"
      ]
     },
     "execution_count": 31,
     "metadata": {},
     "output_type": "execute_result"
    }
   ],
   "source": [
    "variance = np.average(sd_table.column('Squared deviation'))\n",
    "variance"
   ]
  },
  {
   "cell_type": "code",
   "execution_count": 32,
   "id": "e8b82a68",
   "metadata": {},
   "outputs": [
    {
     "data": {
      "text/plain": [
       "20.844663585675832"
      ]
     },
     "execution_count": 32,
     "metadata": {},
     "output_type": "execute_result"
    }
   ],
   "source": [
    "sd = variance**0.5\n",
    "sd"
   ]
  },
  {
   "cell_type": "code",
   "execution_count": 33,
   "id": "e8ea5054",
   "metadata": {},
   "outputs": [
    {
     "data": {
      "text/plain": [
       "20.844663585675832"
      ]
     },
     "execution_count": 33,
     "metadata": {},
     "output_type": "execute_result"
    }
   ],
   "source": [
    "np.std(well_dept)"
   ]
  },
  {
   "cell_type": "code",
   "execution_count": null,
   "id": "43019f37",
   "metadata": {},
   "outputs": [],
   "source": []
  }
 ],
 "metadata": {
  "kernelspec": {
   "display_name": "Python 3 (ipykernel)",
   "language": "python",
   "name": "python3"
  },
  "language_info": {
   "codemirror_mode": {
    "name": "ipython",
    "version": 3
   },
   "file_extension": ".py",
   "mimetype": "text/x-python",
   "name": "python",
   "nbconvert_exporter": "python",
   "pygments_lexer": "ipython3",
   "version": "3.9.13"
  }
 },
 "nbformat": 4,
 "nbformat_minor": 5
}
